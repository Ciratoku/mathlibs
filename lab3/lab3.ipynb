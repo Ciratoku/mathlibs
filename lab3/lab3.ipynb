{
 "cells": [
  {
   "cell_type": "markdown",
   "id": "011b6abe",
   "metadata": {},
   "source": [
    "<h1>Мат. пакеты, лаб. работа №3, 9383, Гордон Дмитрий<h1>"
   ]
  },
  {
   "cell_type": "markdown",
   "id": "b6d536bf",
   "metadata": {},
   "source": [
    "<h2>Вариант 43 (ДМ)<h2>"
   ]
  },
  {
   "cell_type": "code",
   "execution_count": 53,
   "id": "f8a21b38",
   "metadata": {},
   "outputs": [
    {
     "name": "stdout",
     "output_type": "stream",
     "text": [
      "Solution:\n"
     ]
    },
    {
     "data": {
      "text/plain": [
       "{(215*t_0 + 203, 126*t_0 + 119)}"
      ]
     },
     "execution_count": 53,
     "metadata": {},
     "output_type": "execute_result"
    }
   ],
   "source": [
    "from sympy.solvers.diophantine import diophantine\n",
    "from sympy import symbols\n",
    "x, y = symbols(\"x, y\", integer=True)\n",
    "print(\"Solution:\")\n",
    "diophantine(2142*x - 3655*y + 119)"
   ]
  },
  {
   "cell_type": "code",
   "execution_count": 42,
   "id": "1317e2da",
   "metadata": {},
   "outputs": [
    {
     "name": "stdout",
     "output_type": "stream",
     "text": [
      "private key: (33, 11)\n",
      "enciphered word: ['В', 'Е', 'Щ', 'Ь'] [4, 7, 27, 29]\n",
      "deciphered word: ['В', 'Е', 'Щ', 'Ь'] [4, 7, 27, 29]\n"
     ]
    }
   ],
   "source": [
    "from sympy.crypto.crypto import rsa_private_key\n",
    "from sympy.crypto.crypto import decipher_rsa\n",
    "e = 11\n",
    "m = 33\n",
    "bukvar = \"А,Б,В,Г,Д,Е,Ж,З,И,Й,К,Л,М,Н,О,П,Р,С,Т,У,Ф,Х,Ц,Ч,Ш,Щ,Ы,Ь,Э,Ю,Я\"\n",
    "bukvar = bukvar.split(',')\n",
    "en_word = [4, 7, 27, 29]\n",
    "dec_word = []\n",
    "private_key = rsa_private_key(m, e)\n",
    "print(\"private key:\", private_key)\n",
    "print(\"enciphered word:\", [bukvar[i - 2] for i in en_word], en_word)\n",
    "for i in en_word:\n",
    "    dec_word.append(decipher_rsa(i, private_key))\n",
    "    \n",
    "print(\"deciphered word:\", [bukvar[i - 2] for i in dec_word], dec_word)"
   ]
  },
  {
   "cell_type": "markdown",
   "id": "39544462",
   "metadata": {},
   "source": [
    "<h2>Вариант 63 (МЛиТА)<h2>"
   ]
  },
  {
   "cell_type": "markdown",
   "id": "279b3b66",
   "metadata": {},
   "source": [
    "$$ f(x, y, z) = ((x \\oplus y) \\vee (y \\vee x)) \\oplus ((xz) \\vee (zy))$$"
   ]
  },
  {
   "cell_type": "code",
   "execution_count": 1,
   "id": "6e6a50d8",
   "metadata": {},
   "outputs": [
    {
     "name": "stdout",
     "output_type": "stream",
     "text": [
      "DNF:\n"
     ]
    },
    {
     "data": {
      "text/latex": [
       "$\\displaystyle \\left(x \\wedge \\neg z\\right) \\vee \\left(y \\wedge \\neg z\\right) \\vee \\left(z \\wedge \\neg x \\wedge \\neg y\\right)$"
      ],
      "text/plain": [
       "(x & ~z) | (y & ~z) | (z & ~x & ~y)"
      ]
     },
     "execution_count": 1,
     "metadata": {},
     "output_type": "execute_result"
    }
   ],
   "source": [
    "from sympy.logic.boolalg import to_dnf\n",
    "from sympy.logic.boolalg import to_cnf\n",
    "from sympy.logic.boolalg import Xor\n",
    "from sympy.abc import x, y, z\n",
    "print(\"DNF:\")\n",
    "to_dnf(((z ^ y) | (y | x)) ^ ((x & z) | (z & y)), True)"
   ]
  },
  {
   "cell_type": "code",
   "execution_count": 50,
   "id": "5996a980",
   "metadata": {},
   "outputs": [
    {
     "name": "stdout",
     "output_type": "stream",
     "text": [
      "CNF:\n"
     ]
    },
    {
     "data": {
      "text/latex": [
       "$\\displaystyle \\left(y \\vee z\\right) \\wedge \\left(y \\vee \\neg x\\right)$"
      ],
      "text/plain": [
       "(y | z) & (y | ~x)"
      ]
     },
     "execution_count": 50,
     "metadata": {},
     "output_type": "execute_result"
    }
   ],
   "source": [
    "print(\"CNF:\")\n",
    "to_cnf(((z ^ y) or (y | x)) ^ ((x & z) | (z & y)), True)"
   ]
  }
 ],
 "metadata": {
  "kernelspec": {
   "display_name": "Python 3 (ipykernel)",
   "language": "python",
   "name": "python3"
  },
  "language_info": {
   "codemirror_mode": {
    "name": "ipython",
    "version": 3
   },
   "file_extension": ".py",
   "mimetype": "text/x-python",
   "name": "python",
   "nbconvert_exporter": "python",
   "pygments_lexer": "ipython3",
   "version": "3.10.0"
  }
 },
 "nbformat": 4,
 "nbformat_minor": 5
}
